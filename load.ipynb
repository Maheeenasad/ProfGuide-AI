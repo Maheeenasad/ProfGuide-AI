{
 "cells": [
  {
   "cell_type": "code",
   "execution_count": 7,
   "metadata": {},
   "outputs": [],
   "source": [
    "from dotenv import load_dotenv\n",
    "load_dotenv()\n",
    "\n",
    "import os\n",
    "import requests\n",
    "from pinecone import Pinecone, ServerlessSpec"
   ]
  },
  {
   "cell_type": "code",
   "execution_count": 29,
   "metadata": {},
   "outputs": [],
   "source": [
    "# Initialize Pinecone\n",
    "pc = Pinecone(api_key=os.getenv(\"PINECONE_API_KEY\"))\n",
    "\n",
    "# Delete the existing index if it exists\n",
    "pc.delete_index(\"rag\")\n",
    "\n",
    "# Create a new Pinecone index with dimension 512\n",
    "pc.create_index(\n",
    "    name=\"rag\",\n",
    "    dimension=512,  # Set the dimension to match your embeddings\n",
    "    metric=\"cosine\",\n",
    "    spec=ServerlessSpec(cloud=\"aws\", region=\"us-east-1\"),\n",
    ")\n"
   ]
  },
  {
   "cell_type": "code",
   "execution_count": 3,
   "metadata": {},
   "outputs": [
    {
     "data": {
      "text/plain": [
       "[{'professor': 'Dr. Emily Clark',\n",
       "  'review': 'Engaging lectures and clear explanations. Highly recommended!',\n",
       "  'subject': 'Biology',\n",
       "  'stars': 5},\n",
       " {'professor': 'Prof. Michael Chen',\n",
       "  'review': 'Challenging course, but fair grading. Office hours were helpful.',\n",
       "  'subject': 'Physics',\n",
       "  'stars': 4},\n",
       " {'professor': 'Dr. Sarah Johnson',\n",
       "  'review': 'Interesting content, but lectures could be more organized.',\n",
       "  'subject': 'Psychology',\n",
       "  'stars': 3},\n",
       " {'professor': 'Prof. David Thompson',\n",
       "  'review': \"Tough grader, but you'll learn a lot if you put in the effort.\",\n",
       "  'subject': 'Mathematics',\n",
       "  'stars': 4},\n",
       " {'professor': 'Dr. Lisa Patel',\n",
       "  'review': 'Excellent at relating course material to real-world scenarios.',\n",
       "  'subject': 'Business',\n",
       "  'stars': 5},\n",
       " {'professor': 'Prof. Robert Wilson',\n",
       "  'review': 'Knowledgeable, but not very approachable. Assignments were unclear.',\n",
       "  'subject': 'Computer Science',\n",
       "  'stars': 2},\n",
       " {'professor': 'Dr. Maria Rodriguez',\n",
       "  'review': 'Passionate about the subject, which made classes enjoyable.',\n",
       "  'subject': 'Literature',\n",
       "  'stars': 4},\n",
       " {'professor': 'Prof. James Lee',\n",
       "  'review': 'Difficult to follow in lectures. Textbook was more helpful.',\n",
       "  'subject': 'Chemistry',\n",
       "  'stars': 2},\n",
       " {'professor': 'Dr. Anna Kowalski',\n",
       "  'review': 'Great at fostering class discussions. Fair and constructive feedback.',\n",
       "  'subject': 'Sociology',\n",
       "  'stars': 5},\n",
       " {'professor': 'Prof. Thomas Brown',\n",
       "  'review': 'Dry lectures, but comprehensive course content.',\n",
       "  'subject': 'History',\n",
       "  'stars': 3},\n",
       " {'professor': 'Dr. Samantha Wright',\n",
       "  'review': 'Innovative teaching methods. Made a difficult subject accessible.',\n",
       "  'subject': 'Engineering',\n",
       "  'stars': 5},\n",
       " {'professor': 'Prof. Daniel Kim',\n",
       "  'review': 'Disorganized and often late to class. Grading was inconsistent.',\n",
       "  'subject': 'Economics',\n",
       "  'stars': 1},\n",
       " {'professor': 'Dr. Rachel Green',\n",
       "  'review': 'Supportive and encouraging. Always available for extra help.',\n",
       "  'subject': 'Education',\n",
       "  'stars': 5},\n",
       " {'professor': 'Prof. Christopher Davis',\n",
       "  'review': 'Knowledgeable but strict. Be prepared to work hard.',\n",
       "  'subject': 'Law',\n",
       "  'stars': 4},\n",
       " {'professor': 'Dr. Olivia Martinez',\n",
       "  'review': 'Engaging lecturer with a great sense of humor. Assignments were relevant.',\n",
       "  'subject': 'Anthropology',\n",
       "  'stars': 5},\n",
       " {'professor': 'Prof. William Taylor',\n",
       "  'review': 'Course material was outdated. Needs to incorporate more recent research.',\n",
       "  'subject': 'Political Science',\n",
       "  'stars': 2},\n",
       " {'professor': 'Dr. Elizabeth Chang',\n",
       "  'review': 'Challenging but rewarding course. Dr. Chang is passionate about the subject.',\n",
       "  'subject': 'Philosophy',\n",
       "  'stars': 4},\n",
       " {'professor': 'Prof. George Nkrumah',\n",
       "  'review': 'Brilliant mind but struggles to communicate clearly. Office hours helped.',\n",
       "  'subject': 'Physics',\n",
       "  'stars': 3},\n",
       " {'professor': 'Dr. Fatima Al-Sayed',\n",
       "  'review': 'Inspiring teacher. Made me consider changing my major to this field.',\n",
       "  'subject': 'Environmental Science',\n",
       "  'stars': 5},\n",
       " {'professor': 'Prof. Hiroshi Tanaka',\n",
       "  'review': 'Very demanding, but ultimately a transformative class experience.',\n",
       "  'subject': 'Art History',\n",
       "  'stars': 4}]"
      ]
     },
     "execution_count": 3,
     "metadata": {},
     "output_type": "execute_result"
    }
   ],
   "source": [
    "import json\n",
    "# Load the review data\n",
    "data = json.load(open(\"reviews.json\"))\n",
    "\n",
    "data['reviews']"
   ]
  },
  {
   "cell_type": "code",
   "execution_count": 21,
   "metadata": {},
   "outputs": [],
   "source": [
    "# Fetch the API key from the environment variables\n",
    "GOOGLE_API_KEY = os.getenv(\"GOOGLE_API_KEY\")\n",
    "\n",
    "# Check if the key was loaded correctly\n",
    "if not GOOGLE_API_KEY:\n",
    "    raise ValueError(\"Google API Key not found. Please check your .env file.\")\n",
    "\n",
    "# Define the API endpoint URL\n",
    "embedding_api_url = f\"https://generativelanguage.googleapis.com/v1beta/models/gemini-1.5-flash-latest:generateContent?key={GOOGLE_API_KEY}\"\n",
    "\n",
    "# Initialize an empty list to hold the processed data\n",
    "processed_data = []\n",
    "\n",
    "# Create content for each review\n",
    "for review in data[\"reviews\"]:\n",
    "    response = requests.post(\n",
    "        embedding_api_url,\n",
    "        json={\n",
    "            \"contents\": [\n",
    "                {\n",
    "                    \"parts\": [\n",
    "                        {\"text\": review['review']}  # Pass the review text here\n",
    "                    ]\n",
    "                }\n",
    "            ]\n",
    "        }\n",
    "    )\n",
    "\n",
    "    if response.status_code == 200:\n",
    "        # Extract the generated content from the response\n",
    "        candidates = response.json().get('candidates', [])\n",
    "        if candidates:\n",
    "            content_parts = candidates[0].get('content', {}).get('parts', [])\n",
    "            if content_parts:\n",
    "                generated_content = content_parts[0].get('text', '')\n",
    "                processed_data.append(\n",
    "                    {\n",
    "                        \"values\": generated_content,  # The generated content\n",
    "                        \"id\": review[\"professor\"],\n",
    "                        \"metadata\": {\n",
    "                            \"review\": review[\"review\"],\n",
    "                            \"subject\": review[\"subject\"],\n",
    "                            \"stars\": review[\"stars\"],\n",
    "                        }\n",
    "                    }\n",
    "                )\n",
    "    else:\n",
    "        print(f\"Error {response.status_code}: {response.text}\")\n",
    "\n",
    "# Now you have the processed data with the generated content for each review."
   ]
  },
  {
   "cell_type": "code",
   "execution_count": 22,
   "metadata": {},
   "outputs": [
    {
     "data": {
      "text/plain": [
       "{'values': \"Thank you for the kind words! I'm glad you found the lectures engaging and the explanations clear.  \\n\\nI'm always looking for ways to improve, so would you mind sharing a bit more about what made the lectures particularly engaging and clear for you? \\n\\nFor example:\\n\\n* What was the topic of the lectures?\\n* What specific aspects of the lectures did you find engaging?\\n* What made the explanations clear and easy to understand? \\n\\nYour feedback helps me understand what resonates with audiences and how I can continue to deliver high-quality learning experiences. 😊 \\n\",\n",
       " 'id': 'Dr. Emily Clark',\n",
       " 'metadata': {'review': 'Engaging lectures and clear explanations. Highly recommended!',\n",
       "  'subject': 'Biology',\n",
       "  'stars': 5}}"
      ]
     },
     "execution_count": 22,
     "metadata": {},
     "output_type": "execute_result"
    }
   ],
   "source": [
    "processed_data[0]"
   ]
  },
  {
   "cell_type": "code",
   "execution_count": 31,
   "metadata": {},
   "outputs": [
    {
     "name": "stdout",
     "output_type": "stream",
     "text": [
      "Upserted count: 20\n",
      "{'dimension': 512,\n",
      " 'index_fullness': 0.0,\n",
      " 'namespaces': {},\n",
      " 'total_vector_count': 0}\n"
     ]
    }
   ],
   "source": [
    "def convert_to_embedding(text):\n",
    "    # Replace this with your actual embedding logic.\n",
    "    # For example, if you're generating embeddings from a model,\n",
    "    # use the model's output here.\n",
    "    return [0.1] * 512  # Example of a non-zero embedding vector\n",
    "\n",
    "# Process the data and prepare it for upserting to Pinecone\n",
    "valid_vectors = []\n",
    "for item in processed_data:\n",
    "    embedding = convert_to_embedding(item[\"values\"])  # Convert the content to embedding\n",
    "    \n",
    "    # Ensure the embedding is not a zero vector\n",
    "    if any(embedding):  # This checks if there's at least one non-zero value\n",
    "        item[\"values\"] = embedding\n",
    "        valid_vectors.append(item)\n",
    "\n",
    "# Insert the valid embeddings into the Pinecone index\n",
    "index = pc.Index(\"rag\")\n",
    "upsert_response = index.upsert(\n",
    "    vectors=valid_vectors,\n",
    "    namespace=\"ns1\",\n",
    ")\n",
    "print(f\"Upserted count: {upsert_response['upserted_count']}\")\n",
    "\n",
    "# Print index statistics\n",
    "print(index.describe_index_stats())\n"
   ]
  }
 ],
 "metadata": {
  "kernelspec": {
   "display_name": "rag",
   "language": "python",
   "name": "python3"
  },
  "language_info": {
   "codemirror_mode": {
    "name": "ipython",
    "version": 3
   },
   "file_extension": ".py",
   "mimetype": "text/x-python",
   "name": "python",
   "nbconvert_exporter": "python",
   "pygments_lexer": "ipython3",
   "version": "3.11.9"
  }
 },
 "nbformat": 4,
 "nbformat_minor": 2
}
